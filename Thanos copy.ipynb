{
 "cells": [
  {
   "cell_type": "markdown",
   "metadata": {},
   "source": [
    "\n",
    "<img src=\"thanos.jpg\">"
   ]
  },
  {
   "cell_type": "code",
   "execution_count": 1,
   "metadata": {},
   "outputs": [],
   "source": [
    "import os\n",
    "import random\n",
    "import time"
   ]
  },
  {
   "cell_type": "code",
   "execution_count": 2,
   "metadata": {},
   "outputs": [
    {
     "data": {
      "text/plain": [
       "['cover001.png',\n",
       " 'cover002.png',\n",
       " 'cover003.png',\n",
       " 'cover004.png',\n",
       " 'cover005.png',\n",
       " 'cover006.png',\n",
       " 'cover007.png',\n",
       " 'cover008.png',\n",
       " 'cover009.png',\n",
       " 'cover010.png',\n",
       " 'cover011.png',\n",
       " 'cover012.png',\n",
       " 'cover013.png',\n",
       " 'cover014.png',\n",
       " 'cover015.png',\n",
       " 'cover016.png',\n",
       " 'cover017.png',\n",
       " 'cover018.png',\n",
       " 'cover019.png',\n",
       " 'cover020.png',\n",
       " 'cover021.png',\n",
       " 'cover022.png',\n",
       " 'cover023.png',\n",
       " 'cover024.png',\n",
       " 'cover025.png',\n",
       " 'cover026.png',\n",
       " 'cover027.png',\n",
       " 'cover028.png',\n",
       " 'cover029.png',\n",
       " 'cover030.png',\n",
       " 'cover031.png',\n",
       " 'cover032.png',\n",
       " 'cover033.png',\n",
       " 'cover034.png',\n",
       " 'cover035.png',\n",
       " 'cover036.png',\n",
       " 'cover037.png',\n",
       " 'cover038.png',\n",
       " 'cover039.png',\n",
       " 'cover040.png',\n",
       " 'cover041.png',\n",
       " 'cover042.png',\n",
       " 'cover043.png',\n",
       " 'cover044.png',\n",
       " 'cover045.png',\n",
       " 'cover046.png',\n",
       " 'cover047.png',\n",
       " 'cover048.png',\n",
       " 'cover049.png',\n",
       " 'cover050.png']"
      ]
     },
     "execution_count": 2,
     "metadata": {},
     "output_type": "execute_result"
    }
   ],
   "source": [
    "os.listdir('universe')"
   ]
  },
  {
   "cell_type": "code",
   "execution_count": 4,
   "metadata": {},
   "outputs": [],
   "source": [
    "def get_universe_people(place):\n",
    "    people= os.listdir(place)\n",
    "    return people"
   ]
  },
  {
   "cell_type": "code",
   "execution_count": 5,
   "metadata": {},
   "outputs": [
    {
     "data": {
      "text/plain": [
       "['cover001.png',\n",
       " 'cover002.png',\n",
       " 'cover003.png',\n",
       " 'cover004.png',\n",
       " 'cover005.png',\n",
       " 'cover006.png',\n",
       " 'cover007.png',\n",
       " 'cover008.png',\n",
       " 'cover009.png',\n",
       " 'cover010.png',\n",
       " 'cover011.png',\n",
       " 'cover012.png',\n",
       " 'cover013.png',\n",
       " 'cover014.png',\n",
       " 'cover015.png',\n",
       " 'cover016.png',\n",
       " 'cover017.png',\n",
       " 'cover018.png',\n",
       " 'cover019.png',\n",
       " 'cover020.png',\n",
       " 'cover021.png',\n",
       " 'cover022.png',\n",
       " 'cover023.png',\n",
       " 'cover024.png',\n",
       " 'cover025.png',\n",
       " 'cover026.png',\n",
       " 'cover027.png',\n",
       " 'cover028.png',\n",
       " 'cover029.png',\n",
       " 'cover030.png',\n",
       " 'cover031.png',\n",
       " 'cover032.png',\n",
       " 'cover033.png',\n",
       " 'cover034.png',\n",
       " 'cover035.png',\n",
       " 'cover036.png',\n",
       " 'cover037.png',\n",
       " 'cover038.png',\n",
       " 'cover039.png',\n",
       " 'cover040.png',\n",
       " 'cover041.png',\n",
       " 'cover042.png',\n",
       " 'cover043.png',\n",
       " 'cover044.png',\n",
       " 'cover045.png',\n",
       " 'cover046.png',\n",
       " 'cover047.png',\n",
       " 'cover048.png',\n",
       " 'cover049.png',\n",
       " 'cover050.png']"
      ]
     },
     "execution_count": 5,
     "metadata": {},
     "output_type": "execute_result"
    }
   ],
   "source": [
    "universe=get_universe_people('universe')\n",
    "universe"
   ]
  },
  {
   "cell_type": "code",
   "execution_count": 10,
   "metadata": {},
   "outputs": [],
   "source": [
    "def thanos_snap(universe):\n",
    "    half_universe=len(universe)//2\n",
    "    for i in range(half_universe):\n",
    "        random_victime=random.choice(universe)\n",
    "        os.remove('universe/'+random_victime)\n",
    "        universe.remove(random_victime)\n",
    "        print(f'Destroying: {random_victime}')\n",
    "        time.sleep(0.5)\n",
    "    print('Perfectly balanced, as all things should be')"
   ]
  },
  {
   "cell_type": "code",
   "execution_count": 11,
   "metadata": {},
   "outputs": [
    {
     "name": "stdout",
     "output_type": "stream",
     "text": [
      "Destroying: cover009.png\n",
      "Destroying: cover035.png\n",
      "Destroying: cover012.png\n",
      "Destroying: cover033.png\n",
      "Destroying: cover008.png\n",
      "Destroying: cover011.png\n",
      "Destroying: cover022.png\n",
      "Destroying: cover006.png\n",
      "Destroying: cover041.png\n",
      "Destroying: cover019.png\n",
      "Destroying: cover037.png\n",
      "Destroying: cover025.png\n",
      "Destroying: cover045.png\n",
      "Destroying: cover049.png\n",
      "Destroying: cover030.png\n",
      "Destroying: cover004.png\n",
      "Destroying: cover024.png\n",
      "Destroying: cover042.png\n",
      "Destroying: cover017.png\n",
      "Destroying: cover020.png\n",
      "Destroying: cover021.png\n",
      "Destroying: cover040.png\n",
      "Destroying: cover023.png\n",
      "Destroying: cover027.png\n",
      "Destroying: cover043.png\n",
      "Perfectly balanced, as all things should be\n"
     ]
    }
   ],
   "source": [
    "thanos_snap(universe)"
   ]
  },
  {
   "cell_type": "code",
   "execution_count": null,
   "metadata": {},
   "outputs": [],
   "source": []
  }
 ],
 "metadata": {
  "kernelspec": {
   "display_name": "Python 3",
   "language": "python",
   "name": "python3"
  },
  "language_info": {
   "codemirror_mode": {
    "name": "ipython",
    "version": 3
   },
   "file_extension": ".py",
   "mimetype": "text/x-python",
   "name": "python",
   "nbconvert_exporter": "python",
   "pygments_lexer": "ipython3",
   "version": "3.9.1"
  }
 },
 "nbformat": 4,
 "nbformat_minor": 2
}
